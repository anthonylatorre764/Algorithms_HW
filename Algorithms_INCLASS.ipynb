{
 "cells": [
  {
   "attachments": {},
   "cell_type": "markdown",
   "metadata": {},
   "source": [
    "# Algorithms, Binary Search & Linked Lists"
   ]
  },
  {
   "attachments": {},
   "cell_type": "markdown",
   "metadata": {},
   "source": [
    "## Tasks Today:\n",
    " \n",
    "1) <b>In-Place Algorithms</b> <br>\n",
    " &nbsp;&nbsp;&nbsp;&nbsp; a) Syntax <br>\n",
    " &nbsp;&nbsp;&nbsp;&nbsp; a) Out of Place Algorithm <br>\n",
    " &nbsp;&nbsp;&nbsp;&nbsp; b) In-Class Exercise #1 <br>\n",
    "2) <b>Two Pointers</b> <br>\n",
    "3) <b>Linked Lists</b> <br>\n",
    "4) <b>Merge Sort</b> <br>\n",
    " &nbsp;&nbsp;&nbsp;&nbsp; a) Video on Algorithms <br>\n",
    " &nbsp;&nbsp;&nbsp;&nbsp; b) How it Works <br>\n",
    "5) <b>Exercises</b> <br>\n",
    " &nbsp;&nbsp;&nbsp;&nbsp; a) Exercise #1 - Reverse a List in Place Using an In-Place Algorithm <br>\n",
    " &nbsp;&nbsp;&nbsp;&nbsp; b) Exercise #2 - Find Distinct Words <br>\n",
    " &nbsp;&nbsp;&nbsp;&nbsp; c) Exercise #3 - Write a program to implement a Linear Search Algorithm. <br>"
   ]
  },
  {
   "attachments": {},
   "cell_type": "markdown",
   "metadata": {},
   "source": [
    "## In-Place Algorithms"
   ]
  },
  {
   "attachments": {},
   "cell_type": "markdown",
   "metadata": {},
   "source": [
    "#### Syntax"
   ]
  },
  {
   "cell_type": "code",
   "execution_count": 5,
   "metadata": {},
   "outputs": [
    {
     "name": "stdout",
     "output_type": "stream",
     "text": [
      "4591552768\n",
      "before swap [12, 3, 56]\n",
      "4591552768\n",
      "after swap [3, 56, 12]\n"
     ]
    }
   ],
   "source": [
    "def swap(aList, x, y, z):\n",
    "    aList[x], aList[y], aList[z] = aList[y], aList[z], aList[x]\n",
    "    return aList\n",
    "\n",
    "this_list = [12, 3, 56]\n",
    "\n",
    "print(id(this_list))\n",
    "print(f\"before swap {this_list}\")\n",
    "\n",
    "swap(this_list, 0, 1, 2)\n",
    "\n",
    "print(id(this_list))\n",
    "print(f'after swap {this_list}')"
   ]
  },
  {
   "attachments": {},
   "cell_type": "markdown",
   "metadata": {},
   "source": [
    "#### Out of Place Algorithm"
   ]
  },
  {
   "cell_type": "code",
   "execution_count": 1,
   "metadata": {},
   "outputs": [
    {
     "name": "stdout",
     "output_type": "stream",
     "text": [
      "before the swap ['a', 'b', 'c', 'd']\n",
      "4394568128\n",
      "after the swap ['a', 'b', 'c', 'd']\n",
      "4394568128\n"
     ]
    }
   ],
   "source": [
    "my_list = ['a', 'b', 'c', 'd']\n",
    "\n",
    "print(f'before the swap {my_list}')\n",
    "print(id(my_list))\n",
    "\n",
    "def my_swap(aList):\n",
    "    output = []\n",
    "    for letter in aList[::-1]:\n",
    "        output.append(letter)\n",
    "\n",
    "    return output\n",
    "\n",
    "my_swap(my_list)\n",
    "\n",
    "print(f'after the swap {my_list}')\n",
    "print(id(my_list))\n"
   ]
  },
  {
   "attachments": {},
   "cell_type": "markdown",
   "metadata": {},
   "source": [
    "#### In-Class Exercise #1 <br>\n",
    "<p>Write a function that takes in four arguments (list, index1, index2, index3), and swaps those three positions in the list passed in.</p>"
   ]
  },
  {
   "cell_type": "code",
   "execution_count": null,
   "metadata": {},
   "outputs": [],
   "source": [
    "l_1 = [10, 4, 3, 8, 4, 2, 6]\n",
    "\n"
   ]
  },
  {
   "attachments": {},
   "cell_type": "markdown",
   "metadata": {},
   "source": [
    "## Two Pointers"
   ]
  },
  {
   "attachments": {},
   "cell_type": "markdown",
   "metadata": {},
   "source": [
    "#### Syntax"
   ]
  },
  {
   "cell_type": "code",
   "execution_count": 28,
   "metadata": {},
   "outputs": [],
   "source": [
    "test_list = [1,2,3,4,5,6,7,8,9,10,11]\n",
    "\n",
    "def two_pointer(aList):\n",
    "    left = 0\n",
    "    right = len(aList) - 1\n",
    "    while left <= right:\n",
    "        aList[left], aList[right], = aList[left], aList[right]"
   ]
  },
  {
   "attachments": {},
   "cell_type": "markdown",
   "metadata": {},
   "source": [
    "#### Video of Algorithms <br>\n",
    "<p>Watch the video about algorithms.</p>\n",
    "\n",
    "https://www.youtube.com/watch?v=Q9HjeFD62Uk\n",
    "\n",
    "https://www.youtube.com/watch?v=kPRA0W1kECg\n",
    "\n",
    "https://www.youtube.com/watch?v=ZZuD6iUe3Pc"
   ]
  },
  {
   "attachments": {},
   "cell_type": "markdown",
   "metadata": {},
   "source": [
    "# Sorting Algorithms"
   ]
  },
  {
   "attachments": {},
   "cell_type": "markdown",
   "metadata": {},
   "source": [
    "#### Bubble Sort\n",
    "\n",
    "Worst Case: O(n^2) Time - O(1) Space"
   ]
  },
  {
   "cell_type": "code",
   "execution_count": 8,
   "metadata": {},
   "outputs": [
    {
     "name": "stdout",
     "output_type": "stream",
     "text": [
      "1\n"
     ]
    },
    {
     "ename": "TypeError",
     "evalue": "object of type 'method' has no len()",
     "output_type": "error",
     "traceback": [
      "\u001b[0;31m---------------------------------------------------------------------------\u001b[0m",
      "\u001b[0;31mTypeError\u001b[0m                                 Traceback (most recent call last)",
      "Cell \u001b[0;32mIn[8], line 23\u001b[0m\n\u001b[1;32m     19\u001b[0m         \u001b[39mprint\u001b[39m(aList)\n\u001b[1;32m     21\u001b[0m     \u001b[39mreturn\u001b[39;00m aList\n\u001b[0;32m---> 23\u001b[0m \u001b[39mprint\u001b[39m(bubbleSort(\u001b[39minput\u001b[39;49m))\n",
      "Cell \u001b[0;32mIn[8], line 14\u001b[0m, in \u001b[0;36mbubbleSort\u001b[0;34m(aList)\u001b[0m\n\u001b[1;32m     12\u001b[0m \u001b[39mprint\u001b[39m(p)\n\u001b[1;32m     13\u001b[0m \u001b[39msorted\u001b[39m \u001b[39m=\u001b[39m \u001b[39mTrue\u001b[39;00m\n\u001b[0;32m---> 14\u001b[0m \u001b[39mfor\u001b[39;00m i \u001b[39min\u001b[39;00m \u001b[39mrange\u001b[39m(\u001b[39mlen\u001b[39;49m(aList)\u001b[39m-\u001b[39m\u001b[39m1\u001b[39m):               \u001b[39m# a pass\u001b[39;00m\n\u001b[1;32m     15\u001b[0m     \u001b[39mprint\u001b[39m(aList)\n\u001b[1;32m     16\u001b[0m     \u001b[39mif\u001b[39;00m aList[i] \u001b[39m>\u001b[39m aList[i\u001b[39m+\u001b[39m\u001b[39m1\u001b[39m]:\n",
      "\u001b[0;31mTypeError\u001b[0m: object of type 'method' has no len()"
     ]
    }
   ],
   "source": [
    "input = [8, 5, 2, 9, 5, 6, 3]\n",
    "\n",
    "def swap(aList, x, y):\n",
    "    aList[x], aList[y] = aList[x], aList[y]\n",
    "    return aList\n",
    "\n",
    "def bubbleSort(aList):\n",
    "    sorted = False\n",
    "\n",
    "\n",
    "    p = 0\n",
    "    while not sorted:\n",
    "        p += 1\n",
    "        print(p)\n",
    "        sorted = True\n",
    "        for i in range(len(aList)-1):               # a pass\n",
    "            print(aList)\n",
    "            if aList[i] > aList[i+1]:\n",
    "                swap(aList, i, i+1)\n",
    "                sorted = False\n",
    "        print(aList)\n",
    "\n",
    "    return aList\n",
    "\n",
    "print(bubbleSort(input))"
   ]
  },
  {
   "attachments": {},
   "cell_type": "markdown",
   "metadata": {},
   "source": [
    "##### Insertion Sort\n",
    "\n",
    "Worst Case: O(n^2) time - O(1)space"
   ]
  },
  {
   "cell_type": "code",
   "execution_count": null,
   "metadata": {},
   "outputs": [],
   "source": []
  },
  {
   "attachments": {},
   "cell_type": "markdown",
   "metadata": {},
   "source": [
    "## Merge Sort"
   ]
  },
  {
   "attachments": {},
   "cell_type": "markdown",
   "metadata": {},
   "source": [
    "#### How it Works"
   ]
  },
  {
   "cell_type": "code",
   "execution_count": 3,
   "metadata": {},
   "outputs": [
    {
     "name": "stdout",
     "output_type": "stream",
     "text": [
      "SPLITTING: {a_list}\n",
      "left half: [8, 5, 2], right half: [9, 5, 6, 3]\n",
      "SPLITTING: {a_list}\n",
      "left half: [8], right half: [5, 2]\n",
      "SPLITTING: {a_list}\n",
      "left half: [5], right half: [2]\n",
      "SPLITTING: {a_list}\n",
      "left half: [9, 5], right half: [6, 3]\n",
      "SPLITTING: {a_list}\n",
      "left half: [9], right half: [5]\n",
      "SPLITTING: {a_list}\n",
      "left half: [6], right half: [3]\n",
      "[2, 2, 2, 3, 3, 6, 3]\n"
     ]
    }
   ],
   "source": [
    "input = [8, 5, 2, 9, 5, 6, 3]\n",
    "\n",
    "\n",
    "def mergeSort(a_list):\n",
    "\n",
    "    if len(a_list) > 1:\n",
    "        middle = len(a_list) // 2\n",
    "        left_half = a_list[:middle]\n",
    "        right_half = a_list[middle:]\n",
    "        print('SPLITTING: {a_list}')\n",
    "        print(f'left half: {left_half}, right half: {right_half}')\n",
    "\n",
    "        mergeSort(left_half)\n",
    "        mergeSort(right_half)\n",
    "\n",
    "        #index point for our list\n",
    "        i = 0 #pointer for our left half\n",
    "        j = 0 #pointer for our right half\n",
    "        k = 0 #pointer for our main list that we are merging into\n",
    "\n",
    "        #compare the left and right half until list is empty\n",
    "\n",
    "        while i < len(left_half) and j < len(right_half):\n",
    "            if left_half[i] < right_half[j]:\n",
    "                a_list[k] = left_half[i]\n",
    "                i += 1\n",
    "            else:\n",
    "                a_list[k] = right_half[j]\n",
    "                j += 1\n",
    "            k += 1\n",
    "\n",
    "        #Fills in from the list that is not empty\n",
    "\n",
    "        while i < len(left_half):\n",
    "            a_list[k] - left_half[i]\n",
    "            i += 1\n",
    "            k += 1\n",
    "\n",
    "        while j < len(right_half):\n",
    "            a_list[k] = right_half[j]\n",
    "            j+=1\n",
    "            k+=1\n",
    "\n",
    "        return a_list\n",
    "\n",
    "\n",
    "print(mergeSort(input))"
   ]
  },
  {
   "attachments": {},
   "cell_type": "markdown",
   "metadata": {},
   "source": [
    "# Binary Search\n",
    "\n",
    "The Binary Search algorithm works by finding the number in the middle of a given array and comparing it to the target. Given that the array is sorted\n",
    "\n",
    "* The worst case run time for this algorithm is `O(log(n))`"
   ]
  },
  {
   "cell_type": "code",
   "execution_count": null,
   "metadata": {},
   "outputs": [],
   "source": [
    "def binarySearch(a_list, target):\n",
    "    left = 0\n",
    "    right = len(a_list)\n",
    "    while left <= right:\n",
    "        middle = (left + right) // 2\n",
    "        potential_match = a_list[middle]\n",
    "        if target == potential_match:\n",
    "            return f'WInner Winner Chicken Dinner found {target} at the {middle} index'\n",
    "        elif target"
   ]
  },
  {
   "attachments": {},
   "cell_type": "markdown",
   "metadata": {},
   "source": [
    "# Exercises"
   ]
  },
  {
   "attachments": {},
   "cell_type": "markdown",
   "metadata": {},
   "source": [
    "### Exercise #1 <br>\n",
    "<p>Reverse the list below in-place using an in-place algorithm.<br>For extra credit: Reverse the strings at the same time.</p>"
   ]
  },
  {
   "cell_type": "code",
   "execution_count": 27,
   "metadata": {},
   "outputs": [
    {
     "name": "stdout",
     "output_type": "stream",
     "text": [
      "Before swap:\n",
      "Address in memory: 4401052096\n",
      "['this', 'is', 'a', 'sentence', '.']\n",
      "\n",
      "After swap:\n",
      "Address in memory: 4401052096\n",
      "['.', 'ecnetnes', 'a', 'si', 'siht']\n"
     ]
    }
   ],
   "source": [
    "words = ['this' , 'is', 'a', 'sentence', '.']\n",
    "\n",
    "def swap(list_1, a, b, c, d, e):\n",
    "    # reverse the list using new assignment\n",
    "    # reverse each element using a slice that steps backwards [::-1]\n",
    "    list_1[a], list_1[b], list_1[c], list_1[d], list_1[e] = list_1[e][::-1], list_1[d][::-1], list_1[c][::-1], list_1[b][::-1], list_1[a][::-1]\n",
    "\n",
    "\n",
    "print(\"Before swap:\")\n",
    "print(\"Address in memory: \" + str(id(words)))\n",
    "print(words)\n",
    "\n",
    "swap(words, 0, 1, 2, 3, 4)\n",
    "\n",
    "print(\"\\nAfter swap:\")\n",
    "print(\"Address in memory: \" + str(id(words)))\n",
    "print(words)\n"
   ]
  },
  {
   "attachments": {},
   "cell_type": "markdown",
   "metadata": {},
   "source": [
    "### Exercise #2 <br>\n",
    "<p>Create a function that counts how many distinct words are in the string below, then outputs a dictionary with the words as the key and the value as the amount of times that word appears in the string.<br>Should output:<br>{'a': 5,<br>\n",
    " 'abstract': 1,<br>\n",
    " 'an': 3,<br>\n",
    " 'array': 2, ... etc...</p>"
   ]
  },
  {
   "cell_type": "code",
   "execution_count": 53,
   "metadata": {},
   "outputs": [
    {
     "name": "stdout",
     "output_type": "stream",
     "text": [
      "['In', 'computing', 'a', 'hash', 'table', 'hash', 'map', 'is', 'a', 'data', 'structure', 'which', 'implements', 'an', 'associative', 'array', 'abstract', 'data', 'type', 'a', 'structure', 'that', 'can', 'map', 'keys', 'to', 'values', 'A', 'hash', 'table', 'uses', 'a', 'hash', 'function', 'to', 'compute', 'an', 'index', 'into', 'an', 'array', 'of', 'buckets', 'or', 'slots', 'from', 'which', 'the', 'desired', 'value', 'can', 'be', 'found']\n",
      "{'In': 1, 'computing': 1, 'a': 4, 'hash': 4, 'table': 2, 'map': 2, 'is': 1, 'data': 2, 'structure': 2, 'which': 2, 'implements': 1, 'an': 3, 'associative': 1, 'array': 2, 'abstract': 1, 'type': 1, 'that': 1, 'can': 2, 'keys': 1, 'to': 2, 'values': 1, 'A': 1, 'uses': 1, 'function': 1, 'compute': 1, 'index': 1, 'into': 1, 'of': 1, 'buckets': 1, 'or': 1, 'slots': 1, 'from': 1, 'the': 1, 'desired': 1, 'value': 1, 'be': 1, 'found': 1}\n"
     ]
    }
   ],
   "source": [
    "import string\n",
    "\n",
    "a_text = 'In computing, a hash table hash map is a data structure which implements an associative array abstract data type, a structure that can map keys to values. A hash table uses a hash function to compute an index into an array of buckets or slots from which the desired value can be found'\n",
    "\n",
    "\n",
    "def word_frequency(aString):\n",
    "    formatted_words = []\n",
    "    unique_words = []\n",
    "    word_count = {}\n",
    "\n",
    "    \n",
    "    split_words = aString.split(' ')\n",
    "\n",
    "    # remove punctuation from each split word\n",
    "    for word in split_words:\n",
    "        word = word.translate(str.maketrans('', '', string.punctuation))\n",
    "        formatted_words.append(word)\n",
    "    \n",
    "    # count each unique word using a list and a dictionary\n",
    "    for word in formatted_words:\n",
    "        if word not in unique_words:\n",
    "            unique_words.append(word)\n",
    "            word_count[word] = 1\n",
    "        else:\n",
    "            word_count[word] += 1\n",
    "\n",
    "\n",
    "    return word_count\n",
    "\n",
    "\n",
    "\n",
    "print(word_frequency(a_text))\n"
   ]
  },
  {
   "attachments": {},
   "cell_type": "markdown",
   "metadata": {},
   "source": [
    "## Exercise #3\n",
    "\n",
    "Write a program to implement a Linear Search Algorithm. Also in a comment, write the Time Complexity of the following algorithm.\n",
    "\n",
    "#### Hint: Linear Searching will require searching a list for a given number. "
   ]
  },
  {
   "cell_type": "code",
   "execution_count": 58,
   "metadata": {},
   "outputs": [
    {
     "name": "stdout",
     "output_type": "stream",
     "text": [
      "Your number is located at index 2 in the list.\n"
     ]
    }
   ],
   "source": [
    "# Time Complexity:   Linear - O(n)\n",
    "\n",
    "numbers = [1, 3, 7, 8, 10]\n",
    "\n",
    "\n",
    "def find_num(aList, num):\n",
    "\n",
    "    for index in range(len(aList)):                 # linear\n",
    "        if aList[index] == num:                     #    constant\n",
    "            return index\n",
    "        \n",
    "\n",
    "\n",
    "index = find_num(numbers, 7)\n",
    "\n",
    "print(f\"Your number is located at index {index} in the list.\")"
   ]
  }
 ],
 "metadata": {
  "kernelspec": {
   "display_name": "Python 3",
   "language": "python",
   "name": "python3"
  },
  "language_info": {
   "codemirror_mode": {
    "name": "ipython",
    "version": 3
   },
   "file_extension": ".py",
   "mimetype": "text/x-python",
   "name": "python",
   "nbconvert_exporter": "python",
   "pygments_lexer": "ipython3",
   "version": "3.11.1"
  }
 },
 "nbformat": 4,
 "nbformat_minor": 2
}
